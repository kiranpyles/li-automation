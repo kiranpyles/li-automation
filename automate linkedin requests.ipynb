{
 "cells": [
  {
   "cell_type": "code",
   "execution_count": null,
   "id": "5723fef3-1325-40bf-912d-d9f24d8cf7a9",
   "metadata": {
    "tags": []
   },
   "outputs": [],
   "source": [
    "import pandas as pd\n",
    "import naas\n",
    "import naas_drivers\n",
    "from naas_drivers import linkedin, gsheet"
   ]
  },
  {
   "cell_type": "code",
   "execution_count": null,
   "id": "1806ecf0-502f-4cde-937c-0076bb7eb34c",
   "metadata": {
    "tags": []
   },
   "outputs": [],
   "source": [
    "spreadsheet_id = \"\"\n",
    "sheet_name = \"\"\n",
    "profile_col_name = \"\"\n",
    "naas_drivers.gsheet.connect(spreadsheet_id).get(\n",
    "    sheet_name=sheet_name\n",
    ")"
   ]
  },
  {
   "cell_type": "code",
   "execution_count": null,
   "id": "4335b92e-b0c5-470b-a31f-7a5ec31f14a3",
   "metadata": {
    "tags": []
   },
   "outputs": [],
   "source": [
    "LI_AT = \"\"\n",
    "JSESSIONID = \"\"\n",
    "add_per_launch = 1"
   ]
  },
  {
   "cell_type": "code",
   "execution_count": null,
   "id": "98d476bf-120e-423f-8fee-19775d5577c8",
   "metadata": {
    "tags": []
   },
   "outputs": [],
   "source": [
    "#  naas.scheduler.delete(cron=\"* * * * *\")"
   ]
  },
  {
   "cell_type": "code",
   "execution_count": null,
   "id": "f86e2614-f146-448b-8954-8e90715c9e5e",
   "metadata": {
    "execution": {
     "iopub.status.busy": "2023-07-12T10:37:42.824554Z",
     "iopub.status.idle": "2023-07-12T10:37:42.824999Z",
     "shell.execute_reply": "2023-07-12T10:37:42.824817Z"
    },
    "papermill": {},
    "tags": []
   },
   "outputs": [],
   "source": [
    "df = gsheet.connect(spreadsheet_id).get(sheet_name=sheet_name)"
   ]
  },
  {
   "cell_type": "code",
   "execution_count": null,
   "id": "93c15570-11a2-41cd-aeea-bd40c88961b0",
   "metadata": {
    "execution": {
     "iopub.status.busy": "2023-07-12T10:37:42.826018Z",
     "iopub.status.idle": "2023-07-12T10:37:42.826346Z",
     "shell.execute_reply": "2023-07-12T10:37:42.826183Z"
    },
    "tags": []
   },
   "outputs": [],
   "source": [
    "df = df.head(add_per_launch)\n",
    "print(\"Connection requests will be sent to :\")\n",
    "df"
   ]
  },
  {
   "cell_type": "code",
   "execution_count": null,
   "id": "8f0ea00b-1275-4a08-a970-c936569fcb62",
   "metadata": {
    "execution": {
     "iopub.status.busy": "2023-07-12T10:37:42.827466Z",
     "iopub.status.idle": "2023-07-12T10:37:42.827840Z",
     "shell.execute_reply": "2023-07-12T10:37:42.827639Z"
    },
    "tags": []
   },
   "outputs": [],
   "source": [
    "for index, row in df.iterrows():\n",
    "    profile = row[profile_col_name]\n",
    "    result = linkedin.connect(LI_AT, JSESSIONID).invitation.send(recipient_url=profile)\n",
    "    print(f\"Request sent to : {profile}\")\n",
    "    gsheet.connect(spreadsheet_id).delete(sheet_name=sheet_name, rows=[2])"
   ]
  }
 ],
 "metadata": {
  "kernelspec": {
   "display_name": "Python 3",
   "language": "python",
   "name": "python3"
  },
  "language_info": {
   "codemirror_mode": {
    "name": "ipython",
    "version": 3
   },
   "file_extension": ".py",
   "mimetype": "text/x-python",
   "name": "python",
   "nbconvert_exporter": "python",
   "pygments_lexer": "ipython3",
   "version": "3.9.6"
  }
 },
 "nbformat": 4,
 "nbformat_minor": 5
}
